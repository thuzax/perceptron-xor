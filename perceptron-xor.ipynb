{
 "cells": [
  {
   "cell_type": "markdown",
   "metadata": {
    "colab_type": "text",
    "id": "yJh4fayWQxC_"
   },
   "source": [
    "# Perceptron XOR"
   ]
  },
  {
   "cell_type": "markdown",
   "metadata": {
    "colab_type": "text",
    "id": "o96uNbmNQxDF"
   },
   "source": [
    "## Perceptron binário"
   ]
  },
  {
   "cell_type": "markdown",
   "metadata": {
    "colab_type": "text",
    "id": "foCj1pCiQxDI"
   },
   "source": [
    "Definição da classe Perceptron cuja função de ativação é binária (tornando-se o resultado da predição)."
   ]
  },
  {
   "cell_type": "code",
   "execution_count": 11,
   "metadata": {
    "colab": {},
    "colab_type": "code",
    "id": "-edcIrREQxDO"
   },
   "outputs": [],
   "source": [
    "class Perceptron(object):\n",
    "    \"\"\"Implements a perceptron network\"\"\"\n",
    "    def __init__(self, input_size, lr=1, epochs=100):\n",
    "        self.W = [0] * (input_size + 1)\n",
    "        # add one for bias\n",
    "        self.epochs = epochs\n",
    "        self.lr = lr\n",
    "\n",
    "    def activation_fn(self, x):\n",
    "        #print( \" x=\", x)\n",
    "        #funcao binaria\n",
    "        return 1 if x >= 0 else 0\n",
    "\n",
    "        #funcao bipolar\n",
    "        # return 1 if x >= 0 else -1\n",
    "\n",
    "\n",
    "\n",
    "    def weighted_sum(self, x, w):\n",
    "        if(len(x) != len(w)):\n",
    "            raise Exception(\"List with differents sizes\")\n",
    "        r = 0\n",
    "        for i in range(len(w)):\n",
    "            r += x[i] * w[i]\n",
    "        return r\n",
    "\n",
    "    def predict(self, x):\n",
    "        z = self.weighted_sum(self.W, x)\n",
    "        a = self.activation_fn(z)\n",
    "        return a\n",
    "\n",
    "    def fit(self, X, d):\n",
    "        for _ in range(self.epochs):\n",
    "            for i in range(len(d)):\n",
    "                x = [1] + X[i]\n",
    "                y = self.predict(x)\n",
    "                e = d[i] - y\n",
    "                for j  in range(len(self.W)):\n",
    "                    self.W[j] = self.W[j] + self.lr * e * x[j]\n"
   ]
  },
  {
   "cell_type": "markdown",
   "metadata": {},
   "source": [
    "## Classe Network"
   ]
  },
  {
   "cell_type": "markdown",
   "metadata": {},
   "source": [
    "A classe Network é a responsável pela operação $xor$. Ela foi criada a partir de três perceptrons: $and$, $or$ e $not$. Esses perceptrons são treinados na construção do objeto e, para que possam ser verificadas suas eficiências, são também testados.\n",
    "\n",
    "Tem-se, além das funções de treinamento das componentes, a função de predição, que recebe dois valores binários como entrada. Essa função realiza a seguinte operação para retornar o resultado do $xor$:\n",
    "\n",
    "$$\n",
    "\\begin{equation}\n",
    "      and(not(and(x_{1}, x_{2})), or(x_{1}, x_{2})) \\mid x_{1} \\in \\{0, 1\\}, x_{2} \\in \\{0, 1\\}\n",
    "\\end{equation}\n",
    "$$\n",
    "\n",
    "Se as predições das componentes $and$, $or$ e $not$ forem corretas, a predição da operação $xor$ também serão corretas.\n"
   ]
  },
  {
   "cell_type": "code",
   "execution_count": 12,
   "metadata": {
    "colab": {},
    "colab_type": "code",
    "id": "TM6T8KO76LDy"
   },
   "outputs": [],
   "source": [
    "class Network(object):\n",
    "    \"\"\"Implements a perceptron network\"\"\"\n",
    "    def __init__(self):\n",
    "        self.perceptron_and = self.train_perceptron_and()\n",
    "        self.perceptron_or = self.train_perceptron_or()\n",
    "        self.perceptron_not = self.train_perceptron_not()\n",
    "    \n",
    "    def train_perceptron_and(self):\n",
    "        X = [\n",
    "            [0, 0],\n",
    "            [0, 1],\n",
    "            [1, 0],\n",
    "            [1, 1]\n",
    "        ]\n",
    "        d = [0, 0, 0, 1]\n",
    "\n",
    "        input_size = 2\n",
    "        perceptron_and = Perceptron(input_size)\n",
    "        perceptron_and.fit(X, d)\n",
    "#         print(\"The W results for AND = \",perceptron_and.W)\n",
    "        \n",
    "        testes = [\n",
    "            [0, 0],\n",
    "            [0, 1],\n",
    "            [1, 0],\n",
    "            [1, 1]\n",
    "        ]\n",
    "\n",
    "        print(\"Teste da componente AND:\")\n",
    "        for t in testes:\n",
    "            x = [1] + t\n",
    "            print(\"\\t\", x[1], \" AND \", x[2], \" = \", perceptron_and.predict(x))\n",
    "        \n",
    "        return perceptron_and\n",
    "      \n",
    "    def train_perceptron_or(self):\n",
    "        X = [\n",
    "            [0, 0],\n",
    "            [0, 1],\n",
    "            [1, 0],\n",
    "            [1, 1]\n",
    "        ]\n",
    "        d = [0, 1, 1, 1]\n",
    "\n",
    "        input_size = 2\n",
    "        perceptron_or = Perceptron(input_size)\n",
    "        perceptron_or.fit(X, d)\n",
    "#         print(\"The W results OR = \",perceptron_or.W)\n",
    "\n",
    "        \n",
    "        testes = [\n",
    "            [0, 0],\n",
    "            [0, 1],\n",
    "            [1, 0],\n",
    "            [1, 1]\n",
    "        ]\n",
    "\n",
    "        print(\"Teste da componente OR:\")\n",
    "        for t in testes:\n",
    "            x = [1] + t\n",
    "            print(\"\\t\", x[1], \" OR \", x[2], \" = \", perceptron_or.predict(x))\n",
    "        \n",
    "        return perceptron_or\n",
    "    \n",
    "    \n",
    "    def train_perceptron_not(self):\n",
    "        X = [\n",
    "                [0],\n",
    "                [1],\n",
    "            ]\n",
    "        d = [1, 0]\n",
    "\n",
    "        input_size = 1\n",
    "        perceptron_not = Perceptron(input_size)\n",
    "        perceptron_not.fit(X, d)\n",
    "#         print(\"The W results = \",perceptron_not.W)\n",
    "\n",
    "        testes = [\n",
    "            [0],\n",
    "            [1]\n",
    "        ]\n",
    "\n",
    "        print(\"Teste da componente NOT:\")\n",
    "        for t in testes:\n",
    "            x = [1] + t\n",
    "            print(\"\\t NOT\", x[1], \" = \", perceptron_not.predict(x))\n",
    "            \n",
    "        return perceptron_not\n",
    "      \n",
    "\n",
    "    def predict(self, first_value, second_value):\n",
    "        predict_first_and = self.perceptron_and.predict([1, first_value, second_value])\n",
    "        predict_not = self.perceptron_not.predict([1, predict_first_and])\n",
    "        predict_or = self.perceptron_or.predict([1, first_value, second_value])\n",
    "        return self.perceptron_and.predict([1, predict_not, predict_or])\n",
    "            "
   ]
  },
  {
   "cell_type": "markdown",
   "metadata": {},
   "source": [
    "## Teste da rede"
   ]
  },
  {
   "cell_type": "markdown",
   "metadata": {},
   "source": [
    "Após inicializar a rede, é possível testá-la. Inicialmente a rede foi pensada para apenas duas entradas, mas alterando-se o tamanho das instâncias de treino presentes na classe da rede é possível modificar o tamanho da entrada.\n",
    "\n",
    "Como o treinamento da rede é feito no construtor, podemos diretamente testá-la e isso é feito abaixo (para todas as possibilidades com duas entradas).\n",
    "\n",
    "Ao fim da execução terá-se imprimido os testes para as componentes e os testes da rede como um todo."
   ]
  },
  {
   "cell_type": "code",
   "execution_count": 13,
   "metadata": {
    "colab": {
     "base_uri": "https://localhost:8080/",
     "height": 469
    },
    "colab_type": "code",
    "executionInfo": {
     "elapsed": 7658,
     "status": "ok",
     "timestamp": 1554409226280,
     "user": {
      "displayName": "ARTHUR HENRIQUE SOUSA CRUZ",
      "photoUrl": "",
      "userId": "14265571476964248781"
     },
     "user_tz": 180
    },
    "id": "p0WLwc_k8Eao",
    "outputId": "d17ccd98-63b9-40b5-a52e-82ae41f33507"
   },
   "outputs": [
    {
     "name": "stdout",
     "output_type": "stream",
     "text": [
      "Teste da componente AND:\n",
      "\t 0  AND  0  =  0\n",
      "\t 0  AND  1  =  0\n",
      "\t 1  AND  0  =  0\n",
      "\t 1  AND  1  =  1\n",
      "Teste da componente OR:\n",
      "\t 0  OR  0  =  0\n",
      "\t 0  OR  1  =  1\n",
      "\t 1  OR  0  =  1\n",
      "\t 1  OR  1  =  1\n",
      "Teste da componente NOT:\n",
      "\t NOT 0  =  1\n",
      "\t NOT 1  =  0\n",
      "-------------------------------XOR-------------------------------\n",
      "Teste da rede XOR: \n",
      "\t 0 XOR 0 =  0\n",
      "\t 0 XOR 1 =  1\n",
      "\t 1 XOR 0 =  1\n",
      "\t 1 XOR 1 =  0\n"
     ]
    }
   ],
   "source": [
    "n = Network()\n",
    "\n",
    "print(\"-------------------------------XOR-------------------------------\")\n",
    "print(\"Teste da rede XOR: \")\n",
    "\n",
    "print(\"\\t 0 XOR 0 = \", n.predict(0, 0))\n",
    "print(\"\\t 0 XOR 1 = \", n.predict(0, 1))\n",
    "print(\"\\t 1 XOR 0 = \", n.predict(1, 0))\n",
    "print(\"\\t 1 XOR 1 = \", n.predict(1, 1))\n",
    "\n",
    "# print(\"Digite o primeiro valor do XOR:\")\n",
    "# first_value = int(input())\n",
    "\n",
    "# print(\"Digite o segundo valor do XOR:\")\n",
    "# second_value = int(input())\n",
    "\n",
    "# print(first_value, \" XOR \", second_value, \" = \", n.predict(first_value, second_value))"
   ]
  }
 ],
 "metadata": {
  "colab": {
   "collapsed_sections": [],
   "name": "perceptron-xor.ipynb",
   "provenance": [],
   "version": "0.3.2"
  },
  "kernelspec": {
   "display_name": "Python 3",
   "language": "python",
   "name": "python3"
  },
  "language_info": {
   "codemirror_mode": {
    "name": "ipython",
    "version": 3
   },
   "file_extension": ".py",
   "mimetype": "text/x-python",
   "name": "python",
   "nbconvert_exporter": "python",
   "pygments_lexer": "ipython3",
   "version": "3.6.7"
  }
 },
 "nbformat": 4,
 "nbformat_minor": 1
}
